{
  "nbformat": 4,
  "nbformat_minor": 0,
  "metadata": {
    "colab": {
      "name": "mortgage_payment.ipynb",
      "provenance": [],
      "authorship_tag": "ABX9TyNx6qj7qLO4EIH4TFGMjI83",
      "include_colab_link": true
    },
    "kernelspec": {
      "name": "python3",
      "display_name": "Python 3"
    },
    "language_info": {
      "name": "python"
    }
  },
  "cells": [
    {
      "cell_type": "markdown",
      "metadata": {
        "id": "view-in-github",
        "colab_type": "text"
      },
      "source": [
        "<a href=\"https://colab.research.google.com/github/DillyWilly112/ChatApp/blob/main/mortgage_payment.ipynb\" target=\"_parent\"><img src=\"https://colab.research.google.com/assets/colab-badge.svg\" alt=\"Open In Colab\"/></a>"
      ]
    },
    {
      "cell_type": "markdown",
      "metadata": {
        "id": "n1FIwusGOQou"
      },
      "source": [
        "Dylan Vaca"
      ]
    },
    {
      "cell_type": "code",
      "metadata": {
        "colab": {
          "base_uri": "https://localhost:8080/"
        },
        "id": "KIZu_uYlOUcf",
        "outputId": "b07d2ad1-ec3e-47f5-d34e-f4b399d1756e"
      },
      "source": [
        "name = input('Please tell me your name \\n')\n",
        "print('Hello! ' + name + ' I hear you are applying for a loan today! How much would you like to borrow? \\n')\n",
        "principal = input('Enter principal \\n')\n",
        "principal = float(principal)\n",
        "term = input('What is your term in years? \\n')\n",
        "term = float(term) * 12\n",
        "interestRate = input('Enter Interest Rate \\n')\n",
        "interestRate = float(interestRate) / 100 / 12\n",
        "mortgagePayment = principal * (interestRate * (1 + interestRate)\n",
        "                                ** term) / ((1 + interestRate) ** term - 1)\n",
        "\n",
        "print(\"Your monthly mortgage payment would be\\n (%.2f) \" % mortgagePayment)\n",
        "decision = input('Would you like to proceed with the loan? \\n')\n",
        "\n",
        "if decision.lower() == 'yes':\n",
        "    print('Congragulations on the purchase of your new home! \\n')\n",
        "else:\n",
        "    print('Stop wasting my time!')\n"
      ],
      "execution_count": 13,
      "outputs": [
        {
          "output_type": "stream",
          "text": [
            "Please tell me your name \n",
            "Dylan\n",
            "Hello! Dylan I hear you are applying for a loan today! How much would you like to borrow? \n",
            "\n",
            "Enter principal \n",
            "400000\n",
            "What is your term in years? \n",
            "30\n",
            "Enter Interest Rate \n",
            "3\n",
            "Your monthly mortgage payment would be\n",
            " (1686.42) \n",
            "Would you like to proceed with the loan? \n",
            "yes\n",
            "Congragulations on the purchase of your new home! \n",
            "\n"
          ],
          "name": "stdout"
        }
      ]
    }
  ]
}